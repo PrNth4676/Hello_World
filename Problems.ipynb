{
 "cells": [
  {
   "cell_type": "code",
   "execution_count": 14,
   "metadata": {},
   "outputs": [
    {
     "name": "stdout",
     "output_type": "stream",
     "text": [
      "Enter the value of a year:5200\n",
      "5200 is a Leap Year\n"
     ]
    }
   ],
   "source": [
    "year = int(input(\"Enter the value of a year:\"))\n",
    "if(year%4==0):\n",
    "    if(year%100==0):\n",
    "        if(year%400==0):\n",
    "            print(year,\"is a Leap Year\")\n",
    "        else:\n",
    "            print(\"{0} is not a Leap Year\".format(year))\n",
    "    else:\n",
    "        print(\"{0} is not a Leap Year\".format(year))\n",
    "else:\n",
    "    print(year,\"is not a Leap Year\")"
   ]
  },
  {
   "cell_type": "code",
   "execution_count": 17,
   "metadata": {},
   "outputs": [
    {
     "name": "stdout",
     "output_type": "stream",
     "text": [
      "Enter the first number25\n",
      "Enter the second number36\n",
      "Enter the third number35\n",
      "36 is greatest\n"
     ]
    }
   ],
   "source": [
    "#Maximum of three numbers\n",
    "num1 = int(input(\"Enter the first number\"))\n",
    "num2 = int(input(\"Enter the second number\"))\n",
    "num3 = int(input(\"Enter the third number\"))\n",
    "if(num1>num2):\n",
    "    if(num1>num3):\n",
    "        print(\"{0} is greatest\".format(num1))\n",
    "    else:\n",
    "        print(\"{0} is greatest\".format(num3))\n",
    "elif(num2>num3):\n",
    "    print(\"{0} is greatest\".format(num2))\n",
    "else:\n",
    "    print(\"{0} is greatest\".format(num3))"
   ]
  },
  {
   "cell_type": "code",
   "execution_count": 29,
   "metadata": {},
   "outputs": [
    {
     "name": "stdout",
     "output_type": "stream",
     "text": [
      "Enter the Number to be checked : 25\n",
      "25 is not a prime number\n",
      "5 multiplied by 5 is 25\n"
     ]
    }
   ],
   "source": [
    "#Python program to check the given number is prime number or not.\n",
    "prime = int(input(\"Enter the Number to be checked : \"))\n",
    "for i in range(2, prime):\n",
    "    if (prime%i) == 0:\n",
    "        print(\"{0} is not a prime number\".format(prime))\n",
    "        print(i,\"multiplied by\",prime//i,\"is\",prime)\n",
    "        break\n",
    "else:\n",
    "    print(\"{0} is a prime number\".format(prime))"
   ]
  },
  {
   "cell_type": "code",
   "execution_count": 14,
   "metadata": {},
   "outputs": [
    {
     "name": "stdout",
     "output_type": "stream",
     "text": [
      "Enter the number : 26\n",
      "0   0\n",
      "1   1\n",
      "1   2\n",
      "2   3\n",
      "3   4\n",
      "5   5\n",
      "8   6\n",
      "13   7\n",
      "21   8\n",
      "34   9\n",
      "55   10\n",
      "89   11\n",
      "144   12\n",
      "233   13\n",
      "377   14\n",
      "610   15\n",
      "987   16\n",
      "1597   17\n",
      "2584   18\n",
      "4181   19\n",
      "6765   20\n",
      "10946   21\n",
      "17711   22\n",
      "28657   23\n",
      "46368   24\n",
      "75025   25\n"
     ]
    }
   ],
   "source": [
    "#Write a Python program to print first n Fibonacci numbers\n",
    "def fibonac(f):\n",
    "    if f<=1:\n",
    "        return f\n",
    "    else:\n",
    "        return fibonac(f-1)+fibonac(f-2)\n",
    "fibo = int(input(\"Enter the number : \"))\n",
    "for i in range(fibo):\n",
    "    print(fibonac(i),\" \",i)"
   ]
  },
  {
   "cell_type": "code",
   "execution_count": 5,
   "metadata": {},
   "outputs": [
    {
     "name": "stdout",
     "output_type": "stream",
     "text": [
      "Passport is valid\n"
     ]
    }
   ],
   "source": [
    "observe1=\"What's happening!!\"\n",
    "def passport_check(passport_no):\n",
    "    observe4=\"actual copied to formal\"\n",
    "    observe5=\"func. execution starts\"\n",
    "    if(len(passport_no)==8):\n",
    "        if(passport_no[0]>=\"A\" and passport_no[0]<=\"Z\"):\n",
    "            status=\"valid\"\n",
    "        else:\n",
    "            status=\"invalid\"\n",
    "    else:\n",
    "        status= \"invalid\"\n",
    "    observe6=\"func. execution ends\"\n",
    "    return status\n",
    "observe2=\"function with formal arg.\"\n",
    "observe3=\"calling with actual arg.\"\n",
    "passport_status=passport_check(\"M9993471\")\n",
    "print(\"Passport is\",passport_status)\n",
    "#observe1,2,3,4,5,6 are temporary variables used to explain this concept"
   ]
  },
  {
   "cell_type": "code",
   "execution_count": 6,
   "metadata": {},
   "outputs": [
    {
     "name": "stdout",
     "output_type": "stream",
     "text": [
      "This airline allows baggage limit till 30 kgs\n",
      "Pay the extra baggage charge of 500 rupees\n",
      "This airline now allows baggage limit till 45 kgs\n",
      "Pay the extra baggage charge of 500 rupees\n"
     ]
    }
   ],
   "source": [
    "wt_limit=30\n",
    "def baggage_check(baggage_wt):\n",
    "    extra_baggage_charge=0\n",
    "    if not(baggage_wt>=0 and baggage_wt<=wt_limit):\n",
    "        extra_baggage=baggage_wt-wt_limit\n",
    "        extra_baggage_charge=extra_baggage*100\n",
    "    return extra_baggage_charge\n",
    "def update_baggage_limit(new_wt_limit):\n",
    "    wt_limit=new_wt_limit\n",
    "    print(\"This airline now allows baggage limit till\",wt_limit,\"kgs\")\n",
    "print(\"This airline allows baggage limit till\",wt_limit,\"kgs\")\n",
    "print(\"Pay the extra baggage charge of\",baggage_check(35),\"rupees\")\n",
    "update_baggage_limit(45)\n",
    "print(\"Pay the extra baggage charge of\",baggage_check(35),\"rupees\")\n"
   ]
  },
  {
   "cell_type": "code",
   "execution_count": 15,
   "metadata": {},
   "outputs": [
    {
     "name": "stdout",
     "output_type": "stream",
     "text": [
      "0\n",
      "0\n"
     ]
    }
   ],
   "source": [
    "result=0\n",
    "\n",
    "def find_sum(num1,num2):\n",
    "    if(num1!=num2):\n",
    "        result=num1+num2\n",
    "    else:\n",
    "        result=2*(num1+num2)\n",
    "\n",
    "        find_sum(3,4)\n",
    "print(result)\n",
    "find_sum(5,5)\n",
    "print(result)"
   ]
  },
  {
   "cell_type": "code",
   "execution_count": 18,
   "metadata": {},
   "outputs": [
    {
     "name": "stdout",
     "output_type": "stream",
     "text": [
      "[0, 0, 10, 20, 30]\n"
     ]
    }
   ],
   "source": [
    "my_list=[0]*5\n",
    "for index in range(1,5):\n",
    "\tmy_list[index]=(index-1)*10\n",
    "print(my_list)"
   ]
  },
  {
   "cell_type": "code",
   "execution_count": 24,
   "metadata": {},
   "outputs": [
    {
     "ename": "IndexError",
     "evalue": "tuple index out of range",
     "output_type": "error",
     "traceback": [
      "\u001b[1;31m---------------------------------------------------------------------------\u001b[0m",
      "\u001b[1;31mIndexError\u001b[0m                                Traceback (most recent call last)",
      "\u001b[1;32m<ipython-input-24-2e9da586ee31>\u001b[0m in \u001b[0;36m<module>\u001b[1;34m\u001b[0m\n\u001b[0;32m      1\u001b[0m \u001b[0mtuple1\u001b[0m\u001b[1;33m=\u001b[0m\u001b[1;33m(\u001b[0m\u001b[1;36m5\u001b[0m\u001b[1;33m,\u001b[0m\u001b[1;36m10\u001b[0m\u001b[1;33m,\u001b[0m\u001b[1;36m15\u001b[0m\u001b[1;33m,\u001b[0m\u001b[1;36m20\u001b[0m\u001b[1;33m,\u001b[0m\u001b[1;36m25\u001b[0m\u001b[1;33m)\u001b[0m\u001b[1;33m\u001b[0m\u001b[1;33m\u001b[0m\u001b[0m\n\u001b[1;32m----> 2\u001b[1;33m \u001b[0mprint\u001b[0m\u001b[1;33m(\u001b[0m\u001b[0mtuple1\u001b[0m\u001b[1;33m[\u001b[0m\u001b[1;36m5\u001b[0m\u001b[1;33m]\u001b[0m\u001b[1;33m)\u001b[0m\u001b[1;33m\u001b[0m\u001b[1;33m\u001b[0m\u001b[0m\n\u001b[0m",
      "\u001b[1;31mIndexError\u001b[0m: tuple index out of range"
     ]
    }
   ],
   "source": [
    "tuple1=(5,10,15,20,25)\n",
    "print(tuple1[5])"
   ]
  },
  {
   "cell_type": "code",
   "execution_count": 28,
   "metadata": {},
   "outputs": [
    {
     "name": "stdout",
     "output_type": "stream",
     "text": [
      "1 5 10\n"
     ]
    }
   ],
   "source": [
    "sample_dict={'a':1,'b':2}\n",
    "sample_dict.update({'b':5, 'c':10 })\n",
    "print(sample_dict.get('a'),sample_dict.get('b'),sample_dict.get('c'))"
   ]
  },
  {
   "cell_type": "code",
   "execution_count": 1,
   "metadata": {},
   "outputs": [],
   "source": [
    "import numpy as np\n",
    "arr1 = [25, 56, 12, 85, 34, 75]\n",
    "arr2 = [42, 3, 86, 32, 856, 46]"
   ]
  },
  {
   "cell_type": "code",
   "execution_count": 44,
   "metadata": {},
   "outputs": [],
   "source": [
    "Narr = np.random.rand(1,6)"
   ]
  },
  {
   "cell_type": "code",
   "execution_count": 46,
   "metadata": {},
   "outputs": [],
   "source": [
    "Narr = Narr.astype('complex128')"
   ]
  },
  {
   "cell_type": "code",
   "execution_count": 47,
   "metadata": {},
   "outputs": [
    {
     "data": {
      "text/plain": [
       "array([[0.60267748+0.j, 0.50163871+0.j, 0.46355035+0.j, 0.8594488 +0.j,\n",
       "        0.2713341 +0.j, 0.09711171+0.j]])"
      ]
     },
     "execution_count": 47,
     "metadata": {},
     "output_type": "execute_result"
    }
   ],
   "source": [
    "Narr"
   ]
  },
  {
   "cell_type": "code",
   "execution_count": 11,
   "metadata": {},
   "outputs": [
    {
     "data": {
      "text/plain": [
       "array([ 0,  1,  2,  3,  4,  5,  6,  7,  8,  9, 10])"
      ]
     },
     "execution_count": 11,
     "metadata": {},
     "output_type": "execute_result"
    }
   ],
   "source": [
    "np.arange(11)"
   ]
  },
  {
   "cell_type": "code",
   "execution_count": 10,
   "metadata": {},
   "outputs": [
    {
     "data": {
      "text/plain": [
       "array([[0, 0, 4, 0, 0],\n",
       "       [0, 0, 0, 5, 0],\n",
       "       [0, 0, 0, 0, 6],\n",
       "       [0, 0, 0, 0, 0],\n",
       "       [0, 0, 0, 0, 0]])"
      ]
     },
     "execution_count": 10,
     "metadata": {},
     "output_type": "execute_result"
    }
   ],
   "source": [
    "np.diag([4,5,6],2)"
   ]
  },
  {
   "cell_type": "code",
   "execution_count": 15,
   "metadata": {},
   "outputs": [],
   "source": [
    "lst = [5,10,0,200]\n",
    "lst1 = [1,2,3,'text',True,3+2j]\n",
    "import numpy as np\n",
    "arr = np.array(lst)"
   ]
  },
  {
   "cell_type": "code",
   "execution_count": 16,
   "metadata": {},
   "outputs": [
    {
     "name": "stdout",
     "output_type": "stream",
     "text": [
      "[ 10  15   5 205]\n"
     ]
    }
   ],
   "source": [
    "print(arr+5)"
   ]
  },
  {
   "cell_type": "code",
   "execution_count": 17,
   "metadata": {},
   "outputs": [],
   "source": [
    "arr1 = np.array(lst1)"
   ]
  },
  {
   "cell_type": "code",
   "execution_count": 19,
   "metadata": {},
   "outputs": [
    {
     "data": {
      "text/plain": [
       "array(['1', '2', '3', 'text', 'True', '(3+2j)'], dtype='<U11')"
      ]
     },
     "execution_count": 19,
     "metadata": {},
     "output_type": "execute_result"
    }
   ],
   "source": [
    "arr1"
   ]
  },
  {
   "cell_type": "code",
   "execution_count": 21,
   "metadata": {},
   "outputs": [
    {
     "name": "stdout",
     "output_type": "stream",
     "text": [
      "16\n"
     ]
    }
   ],
   "source": [
    "print(arr.nbytes)"
   ]
  },
  {
   "cell_type": "code",
   "execution_count": 22,
   "metadata": {},
   "outputs": [],
   "source": [
    "arr1 = np.zeros(10)"
   ]
  },
  {
   "cell_type": "code",
   "execution_count": 23,
   "metadata": {},
   "outputs": [
    {
     "name": "stdout",
     "output_type": "stream",
     "text": [
      "float64\n"
     ]
    }
   ],
   "source": [
    "print(np.result_type(arr1))"
   ]
  },
  {
   "cell_type": "code",
   "execution_count": 28,
   "metadata": {},
   "outputs": [],
   "source": [
    "arr3 = np.arange(4).reshape(4,-1)"
   ]
  },
  {
   "cell_type": "code",
   "execution_count": 29,
   "metadata": {},
   "outputs": [
    {
     "name": "stdout",
     "output_type": "stream",
     "text": [
      "(4, 1)\n"
     ]
    }
   ],
   "source": [
    "print(arr3.shape)"
   ]
  },
  {
   "cell_type": "code",
   "execution_count": 30,
   "metadata": {},
   "outputs": [
    {
     "name": "stdout",
     "output_type": "stream",
     "text": [
      "(4, 1)\n"
     ]
    }
   ],
   "source": [
    "print(arr3.shape)"
   ]
  },
  {
   "cell_type": "code",
   "execution_count": 1,
   "metadata": {},
   "outputs": [
    {
     "name": "stdout",
     "output_type": "stream",
     "text": [
      "We\n"
     ]
    }
   ],
   "source": [
    "a = \"Welcome to Infosys\"\n",
    "print(a[:2])"
   ]
  },
  {
   "cell_type": "code",
   "execution_count": 16,
   "metadata": {},
   "outputs": [
    {
     "name": "stdout",
     "output_type": "stream",
     "text": [
      "7\n",
      "0\n",
      "20\n",
      "0\n"
     ]
    }
   ],
   "source": [
    "result=0\n",
    "\n",
    "def find_sum(num1,num2):\n",
    "    if(num1!=num2):\n",
    "        result=num1+num2\n",
    "        return result\n",
    "    else:\n",
    "        result=2*(num1+num2)\n",
    "        return result\n",
    "    \n",
    "print(find_sum(3,4))\n",
    "print(result)\n",
    "print(find_sum(5,5))\n",
    "print(result)"
   ]
  },
  {
   "cell_type": "markdown",
   "metadata": {},
   "source": [
    "## LIST OPERATIONS"
   ]
  },
  {
   "cell_type": "code",
   "execution_count": 36,
   "metadata": {},
   "outputs": [],
   "source": [
    "#Creating an empty list\n",
    "sample_list=[]"
   ]
  },
  {
   "cell_type": "code",
   "execution_count": 37,
   "metadata": {},
   "outputs": [
    {
     "data": {
      "text/plain": [
       "[]"
      ]
     },
     "execution_count": 37,
     "metadata": {},
     "output_type": "execute_result"
    }
   ],
   "source": [
    "sample_list"
   ]
  },
  {
   "cell_type": "code",
   "execution_count": 19,
   "metadata": {},
   "outputs": [],
   "source": [
    "#Creating a list with known size and known elements\n",
    "sample_list1 = [\"Mark\",5,\"Chan\",9]"
   ]
  },
  {
   "cell_type": "code",
   "execution_count": 20,
   "metadata": {},
   "outputs": [
    {
     "data": {
      "text/plain": [
       "['Mark', 5, 'Chan', 9]"
      ]
     },
     "execution_count": 20,
     "metadata": {},
     "output_type": "execute_result"
    }
   ],
   "source": [
    "sample_list1"
   ]
  },
  {
   "cell_type": "code",
   "execution_count": 23,
   "metadata": {},
   "outputs": [],
   "source": [
    "#Creating a list with known size and unknown elements\n",
    "#None denotes an unknown value in Python\n",
    "sample_list2 = [None]*5"
   ]
  },
  {
   "cell_type": "code",
   "execution_count": 24,
   "metadata": {},
   "outputs": [
    {
     "data": {
      "text/plain": [
       "[None, None, None, None, None]"
      ]
     },
     "execution_count": 24,
     "metadata": {},
     "output_type": "execute_result"
    }
   ],
   "source": [
    "sample_list2"
   ]
  },
  {
   "cell_type": "code",
   "execution_count": 25,
   "metadata": {},
   "outputs": [
    {
     "data": {
      "text/plain": [
       "4"
      ]
     },
     "execution_count": 25,
     "metadata": {},
     "output_type": "execute_result"
    }
   ],
   "source": [
    "#Length of the list\n",
    "len(sample_list1)"
   ]
  },
  {
   "cell_type": "code",
   "execution_count": 27,
   "metadata": {},
   "outputs": [
    {
     "name": "stdout",
     "output_type": "stream",
     "text": [
      "Chan\n"
     ]
    }
   ],
   "source": [
    "#Random read\n",
    "print(sample_list1[2])"
   ]
  },
  {
   "cell_type": "code",
   "execution_count": 28,
   "metadata": {},
   "outputs": [],
   "source": [
    "#Random write\n",
    "sample_list2[2]=\"James\""
   ]
  },
  {
   "cell_type": "code",
   "execution_count": 29,
   "metadata": {},
   "outputs": [
    {
     "data": {
      "text/plain": [
       "[None, None, 'James', None, None]"
      ]
     },
     "execution_count": 29,
     "metadata": {},
     "output_type": "execute_result"
    }
   ],
   "source": [
    "sample_list2"
   ]
  },
  {
   "cell_type": "code",
   "execution_count": 33,
   "metadata": {},
   "outputs": [],
   "source": [
    "#Concatenating two lists\n",
    "new_list=[\"Henry\",\"Quentin\"]\n",
    "sample_list2 = sample_list2+new_list\n",
    "#sample_list2=sample_list2+new_list, creates a new list named sample_list2 \n",
    "#containing the concatenated elements from the original sample_list2 and new_list"
   ]
  },
  {
   "cell_type": "code",
   "execution_count": 34,
   "metadata": {},
   "outputs": [
    {
     "data": {
      "text/plain": [
       "['Henry', 'Quentin']"
      ]
     },
     "execution_count": 34,
     "metadata": {},
     "output_type": "execute_result"
    }
   ],
   "source": [
    "new_list"
   ]
  },
  {
   "cell_type": "code",
   "execution_count": 35,
   "metadata": {},
   "outputs": [
    {
     "data": {
      "text/plain": [
       "[None, None, 'James', None, None, 'Henry', 'Quentin']"
      ]
     },
     "execution_count": 35,
     "metadata": {},
     "output_type": "execute_result"
    }
   ],
   "source": [
    "sample_list2"
   ]
  },
  {
   "cell_type": "code",
   "execution_count": 38,
   "metadata": {},
   "outputs": [
    {
     "data": {
      "text/plain": [
       "[]"
      ]
     },
     "execution_count": 38,
     "metadata": {},
     "output_type": "execute_result"
    }
   ],
   "source": [
    "sample_list"
   ]
  },
  {
   "cell_type": "code",
   "execution_count": 39,
   "metadata": {},
   "outputs": [],
   "source": [
    "sample_list+=new_list"
   ]
  },
  {
   "cell_type": "code",
   "execution_count": 40,
   "metadata": {},
   "outputs": [
    {
     "data": {
      "text/plain": [
       "['Henry', 'Quentin']"
      ]
     },
     "execution_count": 40,
     "metadata": {},
     "output_type": "execute_result"
    }
   ],
   "source": [
    "sample_list"
   ]
  },
  {
   "cell_type": "code",
   "execution_count": 41,
   "metadata": {},
   "outputs": [],
   "source": [
    "sample_list+=new_list"
   ]
  },
  {
   "cell_type": "code",
   "execution_count": 42,
   "metadata": {},
   "outputs": [
    {
     "data": {
      "text/plain": [
       "['Henry', 'Quentin', 'Henry', 'Quentin']"
      ]
     },
     "execution_count": 42,
     "metadata": {},
     "output_type": "execute_result"
    }
   ],
   "source": [
    "sample_list"
   ]
  },
  {
   "cell_type": "code",
   "execution_count": 43,
   "metadata": {},
   "outputs": [],
   "source": [
    "sample_list=sample_list+new_list"
   ]
  },
  {
   "cell_type": "code",
   "execution_count": 44,
   "metadata": {},
   "outputs": [
    {
     "data": {
      "text/plain": [
       "['Henry', 'Quentin', 'Henry', 'Quentin', 'Henry', 'Quentin']"
      ]
     },
     "execution_count": 44,
     "metadata": {},
     "output_type": "execute_result"
    }
   ],
   "source": [
    "sample_list"
   ]
  },
  {
   "cell_type": "code",
   "execution_count": 45,
   "metadata": {},
   "outputs": [],
   "source": [
    "sample_list2+=new_list"
   ]
  },
  {
   "cell_type": "code",
   "execution_count": 46,
   "metadata": {},
   "outputs": [
    {
     "data": {
      "text/plain": [
       "[None, None, 'James', None, None, 'Henry', 'Quentin', 'Henry', 'Quentin']"
      ]
     },
     "execution_count": 46,
     "metadata": {},
     "output_type": "execute_result"
    }
   ],
   "source": [
    "sample_list2"
   ]
  },
  {
   "cell_type": "code",
   "execution_count": 47,
   "metadata": {},
   "outputs": [],
   "source": [
    "list_of_airlines=[\"AL1\",\"AL2\",\"AL3\"]"
   ]
  },
  {
   "cell_type": "code",
   "execution_count": 48,
   "metadata": {},
   "outputs": [
    {
     "name": "stdout",
     "output_type": "stream",
     "text": [
      "AL1\n",
      "AL2\n",
      "AL3\n"
     ]
    }
   ],
   "source": [
    "for i in range(0,len(list_of_airlines)):\n",
    "    print(list_of_airlines[i])"
   ]
  },
  {
   "cell_type": "code",
   "execution_count": 51,
   "metadata": {},
   "outputs": [
    {
     "name": "stdout",
     "output_type": "stream",
     "text": [
      "AL1\n",
      "AL2\n",
      "AL3\n"
     ]
    }
   ],
   "source": [
    "#This is beautiful\n",
    "for airline in list_of_airlines:\n",
    "    print(airline)"
   ]
  },
  {
   "cell_type": "code",
   "execution_count": 50,
   "metadata": {},
   "outputs": [
    {
     "name": "stdout",
     "output_type": "stream",
     "text": [
      "Airline found\n"
     ]
    }
   ],
   "source": [
    "#If we just want to find out whether an element is there in a list, we need not iterate through the list. \n",
    "#Instead we can check using if..in syntax. Try out the code and observe the results.\n",
    "list_of_airlines=[\"AL1\",\"AL2\",\"AL3\"]\n",
    "airline=\"AL3\"\n",
    "if airline in list_of_airlines:\n",
    "    print(\"Airline found\")\n",
    "else:\n",
    "    print(\"Airline not found\")"
   ]
  },
  {
   "cell_type": "code",
   "execution_count": 52,
   "metadata": {},
   "outputs": [
    {
     "data": {
      "text/plain": [
       "'AL2'"
      ]
     },
     "execution_count": 52,
     "metadata": {},
     "output_type": "execute_result"
    }
   ],
   "source": [
    "#To fetch the second last airline in the list, \n",
    "#we can write list_of_airlines[-2]. This is equivalent to list_of_airlines[len(list_of_airlines)-2]. \n",
    "list_of_airlines[-2]"
   ]
  },
  {
   "cell_type": "code",
   "execution_count": 69,
   "metadata": {},
   "outputs": [],
   "source": [
    "def checkNum(list_num,pos):\n",
    "    for i in range(0,len(list_num)):\n",
    "        print(i)\n",
    "        if pos==list_num[i]:\n",
    "            return list_num[i]\n",
    "        else:\n",
    "            return 0"
   ]
  },
  {
   "cell_type": "code",
   "execution_count": 70,
   "metadata": {},
   "outputs": [
    {
     "name": "stdout",
     "output_type": "stream",
     "text": [
      "0\n"
     ]
    },
    {
     "data": {
      "text/plain": [
       "0"
      ]
     },
     "execution_count": 70,
     "metadata": {},
     "output_type": "execute_result"
    }
   ],
   "source": [
    "checkNum([1,2,2,3,4,4,4,10],3)"
   ]
  },
  {
   "cell_type": "code",
   "execution_count": 120,
   "metadata": {},
   "outputs": [],
   "source": [
    "def adjacentNum(list_num):\n",
    "    count=0\n",
    "    for i in range(0,len(list_num)):\n",
    "        if i==list_num[i]:\n",
    "            count+=1\n",
    "            print(\"{} has occured at position {}\".format(list_num[i],i))\n",
    "    return count"
   ]
  },
  {
   "cell_type": "code",
   "execution_count": 122,
   "metadata": {},
   "outputs": [
    {
     "name": "stdout",
     "output_type": "stream",
     "text": [
      "8 has occured at position 8\n"
     ]
    },
    {
     "data": {
      "text/plain": [
       "1"
      ]
     },
     "execution_count": 122,
     "metadata": {},
     "output_type": "execute_result"
    }
   ],
   "source": [
    "adjacentNum([8, 6, 8, 10, 8, 20, 10, 8, 8])"
   ]
  },
  {
   "cell_type": "markdown",
   "metadata": {},
   "source": [
    "## TUPLE OPERATIONS"
   ]
  },
  {
   "cell_type": "code",
   "execution_count": 124,
   "metadata": {},
   "outputs": [],
   "source": [
    "#TUPLES ARE IMMUTABLE\n",
    "#Elements can be homogeneous or heterogeneous but they are READ-ONLY."
   ]
  },
  {
   "cell_type": "code",
   "execution_count": 125,
   "metadata": {},
   "outputs": [],
   "source": [
    "#CREATING A TUPLE\n",
    "lunch_menu=(\"Welcome Drink\",\"Veg Starter\",\"Non-Veg Starter\",\"Veg Main Course\",\"Non-Veg Main Course\",\"Dessert\")"
   ]
  },
  {
   "cell_type": "code",
   "execution_count": 126,
   "metadata": {},
   "outputs": [
    {
     "data": {
      "text/plain": [
       "'Welcome Drink'"
      ]
     },
     "execution_count": 126,
     "metadata": {},
     "output_type": "execute_result"
    }
   ],
   "source": [
    "#READ FROM A TUPLE LIST\n",
    "lunch_menu[0]"
   ]
  },
  {
   "cell_type": "code",
   "execution_count": 127,
   "metadata": {},
   "outputs": [
    {
     "ename": "TypeError",
     "evalue": "'tuple' object does not support item assignment",
     "output_type": "error",
     "traceback": [
      "\u001b[1;31m---------------------------------------------------------------------------\u001b[0m",
      "\u001b[1;31mTypeError\u001b[0m                                 Traceback (most recent call last)",
      "\u001b[1;32m<ipython-input-127-fce530d48af6>\u001b[0m in \u001b[0;36m<module>\u001b[1;34m\u001b[0m\n\u001b[0;32m      1\u001b[0m \u001b[1;31m#WRITE INTO A TUPLE LIST IS NOT ALLOWED\u001b[0m\u001b[1;33m\u001b[0m\u001b[1;33m\u001b[0m\u001b[1;33m\u001b[0m\u001b[0m\n\u001b[1;32m----> 2\u001b[1;33m \u001b[0mlunch_menu\u001b[0m\u001b[1;33m[\u001b[0m\u001b[1;36m0\u001b[0m\u001b[1;33m]\u001b[0m\u001b[1;33m=\u001b[0m\u001b[1;34m\"Shangrila\"\u001b[0m\u001b[1;33m\u001b[0m\u001b[1;33m\u001b[0m\u001b[0m\n\u001b[0m",
      "\u001b[1;31mTypeError\u001b[0m: 'tuple' object does not support item assignment"
     ]
    }
   ],
   "source": [
    "#WRITE INTO A TUPLE LIST IS NOT ALLOWED\n",
    "lunch_menu[0]=\"Shangrila\""
   ]
  },
  {
   "cell_type": "code",
   "execution_count": 129,
   "metadata": {},
   "outputs": [
    {
     "ename": "AttributeError",
     "evalue": "'tuple' object has no attribute 'append'",
     "output_type": "error",
     "traceback": [
      "\u001b[1;31m---------------------------------------------------------------------------\u001b[0m",
      "\u001b[1;31mAttributeError\u001b[0m                            Traceback (most recent call last)",
      "\u001b[1;32m<ipython-input-129-7cedb79f5fee>\u001b[0m in \u001b[0;36m<module>\u001b[1;34m\u001b[0m\n\u001b[0;32m      1\u001b[0m \u001b[1;31m#APPEND INTO A TUPLE IS NOT ALLOWED\u001b[0m\u001b[1;33m\u001b[0m\u001b[1;33m\u001b[0m\u001b[1;33m\u001b[0m\u001b[0m\n\u001b[1;32m----> 2\u001b[1;33m \u001b[0mlunch_menu\u001b[0m\u001b[1;33m.\u001b[0m\u001b[0mappend\u001b[0m\u001b[1;33m(\u001b[0m\u001b[1;34m\"Glasss\"\u001b[0m\u001b[1;33m)\u001b[0m\u001b[1;33m\u001b[0m\u001b[1;33m\u001b[0m\u001b[0m\n\u001b[0m",
      "\u001b[1;31mAttributeError\u001b[0m: 'tuple' object has no attribute 'append'"
     ]
    }
   ],
   "source": [
    "#APPEND INTO A TUPLE IS NOT ALLOWED\n",
    "lunch_menu.append(\"Glasss\")"
   ]
  },
  {
   "cell_type": "markdown",
   "metadata": {},
   "source": [
    "## STRING OPERATION"
   ]
  },
  {
   "cell_type": "code",
   "execution_count": 130,
   "metadata": {},
   "outputs": [],
   "source": [
    "#STRING IS IMMUTABLE"
   ]
  },
  {
   "cell_type": "code",
   "execution_count": 131,
   "metadata": {},
   "outputs": [],
   "source": [
    "s = \"ABCD\""
   ]
  },
  {
   "cell_type": "code",
   "execution_count": 132,
   "metadata": {},
   "outputs": [
    {
     "data": {
      "text/plain": [
       "'A'"
      ]
     },
     "execution_count": 132,
     "metadata": {},
     "output_type": "execute_result"
    }
   ],
   "source": [
    "s[0]"
   ]
  },
  {
   "cell_type": "code",
   "execution_count": 133,
   "metadata": {},
   "outputs": [
    {
     "ename": "TypeError",
     "evalue": "'str' object does not support item assignment",
     "output_type": "error",
     "traceback": [
      "\u001b[1;31m---------------------------------------------------------------------------\u001b[0m",
      "\u001b[1;31mTypeError\u001b[0m                                 Traceback (most recent call last)",
      "\u001b[1;32m<ipython-input-133-6d7ec70c6904>\u001b[0m in \u001b[0;36m<module>\u001b[1;34m\u001b[0m\n\u001b[1;32m----> 1\u001b[1;33m \u001b[0ms\u001b[0m\u001b[1;33m[\u001b[0m\u001b[1;36m0\u001b[0m\u001b[1;33m]\u001b[0m\u001b[1;33m=\u001b[0m\u001b[1;34m\"Z\"\u001b[0m\u001b[1;33m\u001b[0m\u001b[1;33m\u001b[0m\u001b[0m\n\u001b[0m",
      "\u001b[1;31mTypeError\u001b[0m: 'str' object does not support item assignment"
     ]
    }
   ],
   "source": [
    "s[0]=\"Z\""
   ]
  },
  {
   "cell_type": "code",
   "execution_count": 139,
   "metadata": {},
   "outputs": [
    {
     "name": "stdout",
     "output_type": "stream",
     "text": [
      "Length of the PAN card number: 10\n",
      "PAN card\n",
      "Iterating the string using keyword in\n",
      "A\n",
      "A\n",
      "B\n",
      "G\n",
      "T\n",
      "6\n",
      "7\n",
      "1\n",
      "5\n",
      "H\n"
     ]
    }
   ],
   "source": [
    "#Creating a string\n",
    "pancard_number=\"AABGT6715H\"\n",
    "#Length of the string\n",
    "print(\"Length of the PAN card number:\", len(pancard_number))\n",
    "#Concatenating two strings\n",
    "name1 =\"PAN \"\n",
    "name2=\"card\"\n",
    "name=name1+name2\n",
    "print(name)\n",
    "#print(\"Iterating the string using range()\")\n",
    "#for i in range(0,len(pancard_number)):\n",
    "#    print(\"{0} is the values in place indexed at {1}\".format(pancard_number[i],i))\n",
    "#print(\"Iterating the string using keyword in\")\n",
    "#for v in pancard_number:\n",
    "#    print(v)\n",
    "# print(\"Searching for a character in string\")\n",
    "# if \"Z\" in pancard_number:\n",
    "#     print(\"Character present\")\n",
    "# else:\n",
    "#     print(\"Character is not present\")\n",
    "# #Slicing a string\n",
    "# print(\"The numbers in the PAN card number:\", pancard_number[5:9])\n",
    "# print(\"Last but one 3 characters in the PAN card:\",pancard_number[-4:-1])\n",
    "# pancard_number[2]=\"A\" #This line will result in an error, i.e., string is immutable\n",
    "# print(pancard_number)"
   ]
  },
  {
   "cell_type": "code",
   "execution_count": 148,
   "metadata": {},
   "outputs": [],
   "source": [
    "#Ticket for Airline\n",
    "def tickerGen(airline,src,dest):\n",
    "    if src!=dest:\n",
    "        printTic = airline+':'+src+':'+dest\n",
    "    else:\n",
    "        printTic = \"Source and Destination cannot be same\"\n",
    "    return printTic"
   ]
  },
  {
   "cell_type": "code",
   "execution_count": 150,
   "metadata": {},
   "outputs": [
    {
     "name": "stdout",
     "output_type": "stream",
     "text": [
      "Source and Destination cannot be same\n"
     ]
    }
   ],
   "source": [
    "print(tickerGen(\"AL1\",\"BBI\",\"BBI\"))"
   ]
  },
  {
   "cell_type": "markdown",
   "metadata": {},
   "source": [
    "## SET OPERATION"
   ]
  },
  {
   "cell_type": "code",
   "execution_count": 151,
   "metadata": {},
   "outputs": [],
   "source": [
    "#Set can be created by using the keyword set or by using curly braces {}. \n",
    "#Set function is used to eliminate duplicate values in a list.\n",
    "#Creating a set\n",
    "flight_set={500,520,600,345,520,634,600,500,200,200}"
   ]
  },
  {
   "cell_type": "code",
   "execution_count": 152,
   "metadata": {},
   "outputs": [
    {
     "data": {
      "text/plain": [
       "{200, 345, 500, 520, 600, 634}"
      ]
     },
     "execution_count": 152,
     "metadata": {},
     "output_type": "execute_result"
    }
   ],
   "source": [
    "flight_set"
   ]
  },
  {
   "cell_type": "code",
   "execution_count": 153,
   "metadata": {},
   "outputs": [],
   "source": [
    "#Eliminating duplicates from a list\n",
    "passengers_list=[\"George\", \"Annie\", \"Jack\", \"Annie\", \"Henry\", \"Helen\", \"Maria\", \"George\", \"Jack\", \"Remo\"]\n",
    "unique_passengers=set(passengers_list)"
   ]
  },
  {
   "cell_type": "code",
   "execution_count": 154,
   "metadata": {},
   "outputs": [
    {
     "data": {
      "text/plain": [
       "{'Annie', 'George', 'Helen', 'Henry', 'Jack', 'Maria', 'Remo'}"
      ]
     },
     "execution_count": 154,
     "metadata": {},
     "output_type": "execute_result"
    }
   ],
   "source": [
    "unique_passengers"
   ]
  },
  {
   "cell_type": "code",
   "execution_count": 155,
   "metadata": {},
   "outputs": [
    {
     "data": {
      "text/plain": [
       "set()"
      ]
     },
     "execution_count": 155,
     "metadata": {},
     "output_type": "execute_result"
    }
   ],
   "source": [
    "#Common elements between two sets\n",
    "flight_set&unique_passengers"
   ]
  },
  {
   "cell_type": "code",
   "execution_count": 156,
   "metadata": {},
   "outputs": [
    {
     "data": {
      "text/plain": [
       "{200, 345, 500, 520, 600, 634}"
      ]
     },
     "execution_count": 156,
     "metadata": {},
     "output_type": "execute_result"
    }
   ],
   "source": [
    "#Elements that are only in set A\n",
    "flight_set-unique_passengers"
   ]
  },
  {
   "cell_type": "code",
   "execution_count": 157,
   "metadata": {},
   "outputs": [
    {
     "data": {
      "text/plain": [
       "{200,\n",
       " 345,\n",
       " 500,\n",
       " 520,\n",
       " 600,\n",
       " 634,\n",
       " 'Annie',\n",
       " 'George',\n",
       " 'Helen',\n",
       " 'Henry',\n",
       " 'Jack',\n",
       " 'Maria',\n",
       " 'Remo'}"
      ]
     },
     "execution_count": 157,
     "metadata": {},
     "output_type": "execute_result"
    }
   ],
   "source": [
    "#Merges elements of set A and set B\n",
    "flight_set|unique_passengers"
   ]
  },
  {
   "cell_type": "markdown",
   "metadata": {},
   "source": [
    "## DICTIONARY OPERATION"
   ]
  },
  {
   "cell_type": "code",
   "execution_count": 160,
   "metadata": {},
   "outputs": [],
   "source": [
    "#A dictionary can be used to store an unordered collection of key-value pairs. \n",
    "#The key should be unique and can be of any data type. \n",
    "#Like lists, dictionaries are mutable.\n",
    "#Creating a dictionary\n",
    "crew_details={ \"Pilot\":\"Kumar\",\"Co-pilot\":\"Raghav\",\"Head-Strewardess\":\"Malini\",\"Stewardess\":\"Mala\" }"
   ]
  },
  {
   "cell_type": "code",
   "execution_count": 161,
   "metadata": {},
   "outputs": [
    {
     "data": {
      "text/plain": [
       "'Kumar'"
      ]
     },
     "execution_count": 161,
     "metadata": {},
     "output_type": "execute_result"
    }
   ],
   "source": [
    "#Accessing the value using key\n",
    "crew_details[\"Pilot\"]"
   ]
  },
  {
   "cell_type": "code",
   "execution_count": 162,
   "metadata": {},
   "outputs": [
    {
     "name": "stdout",
     "output_type": "stream",
     "text": [
      "Pilot : Kumar\n",
      "Co-pilot : Raghav\n",
      "Head-Strewardess : Malini\n",
      "Stewardess : Mala\n"
     ]
    }
   ],
   "source": [
    "#Iterating through the dictionary\n",
    "for key,value in crew_details.items():\n",
    "     print(key,\":\",value)"
   ]
  }
 ],
 "metadata": {
  "kernelspec": {
   "display_name": "Python 3",
   "language": "python",
   "name": "python3"
  },
  "language_info": {
   "codemirror_mode": {
    "name": "ipython",
    "version": 3
   },
   "file_extension": ".py",
   "mimetype": "text/x-python",
   "name": "python",
   "nbconvert_exporter": "python",
   "pygments_lexer": "ipython3",
   "version": "3.7.3"
  }
 },
 "nbformat": 4,
 "nbformat_minor": 2
}
